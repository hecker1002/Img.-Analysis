{
  "cells": [
    {
      "cell_type": "code",
      "execution_count": null,
      "metadata": {
        "colab": {
          "base_uri": "https://localhost:8080/"
        },
        "id": "r2Mv_RFfoGDP",
        "outputId": "b45929c8-5400-4482-8213-48fd2252ab60"
      },
      "outputs": [
        {
          "name": "stdout",
          "output_type": "stream",
          "text": [
            "Requirement already satisfied: wget in /usr/local/lib/python3.10/dist-packages (3.2)\n"
          ]
        }
      ],
      "source": [
        "# Publish on Github a Repo \n",
        "\n",
        "# Open a folder in local and Publish on Github , select files and name and BOOm !! Done .(Do this using Git Source )\n",
        "\n",
        "!pip install wget\n",
        "\n",
        "# to downlaod the stl-10 daatset in my CWD\n",
        "\n",
        "import wget # for downloading files from online servers \\\n",
        "import os\n",
        "\n",
        "# download files from server's url\n",
        "\n",
        "url = 'http://ai.stanford.edu/~acoates/stl10/stl10_binary.tar.gz'\n",
        "\n",
        "# make a dir to save that dataset\n",
        "\n",
        "target_dir = \"stl10\"\n",
        "\n",
        "# ifthe above path (of dir to save daatset) does NOT exist , then make such a dir\n",
        "if not os.path.exists(target_dir) :\n",
        "    os.mkdir(target_dir)\n",
        "\n",
        "\n",
        "# download the img dataset into that dir\n",
        "\n",
        "file = wget.download( url , out = target_dir)\n",
        "\n",
        "\n",
        "\n"
      ]
    },
    {
      "cell_type": "code",
      "execution_count": null,
      "metadata": {
        "colab": {
          "base_uri": "https://localhost:8080/"
        },
        "id": "DdEU0S5ooexc",
        "outputId": "cb437e12-2c5c-4042-d49b-fb4604fb28b9"
      },
      "outputs": [
        {
          "name": "stdout",
          "output_type": "stream",
          "text": [
            "\u001b[31mERROR: Could not find a version that satisfies the requirement tarfile (from versions: none)\u001b[0m\u001b[31m\n",
            "\u001b[0m\u001b[31mERROR: No matching distribution found for tarfile\u001b[0m\u001b[31m\n",
            "\u001b[0m"
          ]
        }
      ],
      "source": [
        "!pip install tarfile\n",
        "\n",
        "import numpy as np\n",
        "\n",
        "# Now , the images are in binary format , so converting them into RGB\n",
        "\n",
        "# for storing decompressed files\n",
        "\n",
        "decompress_dir_path = 'stl10/stl10_binary.tar.gz'\n",
        "\n",
        "# for de-compress the bianry img files\n",
        "\n",
        "import tarfile\n",
        "\n",
        "# make a dir to store the binary train & test imgs\n",
        "data_dir = 'stl10'\n",
        "\n",
        "# extracting the compressed bin file\n",
        "\n",
        "with tarfile.open(decompress_dir_path , 'r:gz') as tar  :\n",
        "  tar.extractall (path= data_dir ) # after extraction , storing it in the same old dir of stl10\n",
        "\n",
        "\n",
        "# and connect the compete path of training and testing images (in binary but un-compressed format )\n",
        "train_data_path = os.path.join (data_dir , 'stl10_binary' , 'train_X.bin')\n",
        "test_data_path = os.path.join(data_dir , 'stl10_binary' , 'test_X.bin')\n",
        "\n",
        "\n",
        "train_y_path = os.path.join (data_dir , 'stl10_binary' , 'train_y.bin')\n",
        "test_y_path = os.path.join(data_dir , 'stl10_binary' , 'test_y.bin')\n",
        "\n",
        "\n",
        "num_train_img = 5000\n",
        "num_test_img = 8000\n",
        "\n",
        "# stl-10 dataset has each image of size (96 * 96 * 3)\n",
        "\n",
        "height = 96\n",
        "width = 96\n",
        "channels =3\n",
        "\n",
        "# load/ READ  the binary train images and test images and convert it into proper INT format (RGB format  )\n",
        "\n",
        "train_data = np.fromfile(train_data_path, dtype = np.uint8 ) # dtype = final form in which WE want our img / file to be .\n",
        "test_data = np.fromfile (test_data_path , dtype= np.uint8)\n",
        "\n",
        "\n",
        "train_y = np.fromfile(train_y_path, dtype = np.uint8 ) # dtype = final form in which WE want our img / file to be .\n",
        "test_y = np.fromfile (test_y_path , dtype= np.uint8)\n",
        "\n",
        "\n",
        "# make sure to get the img in 96*96 px format\n",
        "\n",
        "train_data = train_data.reshape( (num_train_img  , channels , height , width  )).transpose(0 , 2 , 3, 1)\n",
        "test_data = test_data.reshape( (num_test_img  , channels , height , width  )).transpose(0,2, 3, 1)\n",
        "\n"
      ]
    },
    {
      "cell_type": "code",
      "execution_count": null,
      "metadata": {
        "colab": {
          "base_uri": "https://localhost:8080/"
        },
        "id": "FzMcqGQCWXkD",
        "outputId": "4a808844-1bd8-433d-f407-781f1633a6a9"
      },
      "outputs": [
        {
          "name": "stdout",
          "output_type": "stream",
          "text": [
            "Requirement already satisfied: opencv-python in /usr/local/lib/python3.10/dist-packages (4.8.0.76)\n",
            "Requirement already satisfied: numpy>=1.21.2 in /usr/local/lib/python3.10/dist-packages (from opencv-python) (1.23.5)\n"
          ]
        }
      ],
      "source": [
        "!pip install opencv-python\n"
      ]
    },
    {
      "cell_type": "code",
      "execution_count": null,
      "metadata": {
        "id": "P3BsDXzAW2qj"
      },
      "outputs": [],
      "source": [
        "import cv2"
      ]
    },
    {
      "cell_type": "code",
      "execution_count": null,
      "metadata": {
        "id": "E-suOBKAWPDl"
      },
      "outputs": [],
      "source": [
        "# augmenting the image \n",
        "\n",
        "def rotate (image)  :\n",
        "\n",
        "  # Define the rotation angle (in degrees)\n",
        "  angle = 180  # Clockwise rotation\n",
        "\n",
        "  # Get the height and width of the image\n",
        "  height, width = image.shape[:2]\n",
        "\n",
        "  # Calculate the rotation matrix\n",
        "  rotation_matrix = cv2.getRotationMatrix2D((width / 2, height / 2), angle, 1)\n",
        "\n",
        "  # Apply the rotation to the image\n",
        "  rotated_image = cv2.warpAffine(image, rotation_matrix, (width, height))\n",
        "\n",
        "  return rotated_image\n",
        "\n"
      ]
    },
    {
      "cell_type": "code",
      "execution_count": null,
      "metadata": {
        "id": "a16q_ByVXsg-"
      },
      "outputs": [],
      "source": [
        "for i in range(len(train_data[:5])) :\n",
        "  train_data[i] = rotate(train_data[i])\n",
        "\n"
      ]
    },
    {
      "cell_type": "code",
      "execution_count": null,
      "metadata": {
        "id": "8S2hwvrsSapn"
      },
      "outputs": [],
      "source": [
        "labels = [\n",
        "    \"Airplane\",\n",
        "    \"Bird\",\n",
        "    \"Car\",\n",
        "    \"Cat\",\n",
        "    \"Deer\",\n",
        "    \"Dog\",\n",
        "    \"Horse\",\n",
        "    \"Monkey\",\n",
        "    \"Ship\",\n",
        "    \"Truck\"\n",
        "]"
      ]
    },
    {
      "cell_type": "code",
      "execution_count": null,
      "metadata": {
        "colab": {
          "base_uri": "https://localhost:8080/",
          "height": 433
        },
        "id": "30-fRkJkZEV2",
        "outputId": "7f675021-9e1d-4381-ab42-54c6110ebd61"
      },
      "outputs": [
        {
          "data": {
            "image/png": "[encoded data removed]",
            "text/plain": [
              "<Figure size 640x480 with 1 Axes>"
            ]
          },
          "metadata": {},
          "output_type": "display_data"
        }
      ],
      "source": [
        "import matplotlib.pyplot as plt\n",
        "\n",
        "plt.imshow(train_data[30])\n",
        "plt.show()\n",
        "\n",
        "\n",
        "\n",
        "\n"
      ]
    },
    {
      "cell_type": "code",
      "execution_count": null,
      "metadata": {
        "id": "g9xxAik5oQfE"
      },
      "outputs": [],
      "source": [
        "# importing Res Net\n",
        "\n",
        "import tensorflow as tf\n",
        "from tensorflow import keras\n"
      ]
    },
    {
      "cell_type": "code",
      "execution_count": null,
      "metadata": {
        "id": "JO83DfKU9CdW"
      },
      "outputs": [],
      "source": [
        "# pre-process images\n",
        "\n",
        "def preprocess (img) :\n",
        "  img1 = keras.applications.vgg19.preprocess_input(img)\n",
        "  img1  = tf.image.resize(img , [96 , 96 ])\n",
        "  return img1"
      ]
    },
    {
      "cell_type": "code",
      "execution_count": null,
      "metadata": {
        "id": "tpEeRHLHood0"
      },
      "outputs": [],
      "source": [
        "# splitting into0 training set and validation set\n",
        "\n",
        "from sklearn.model_selection import train_test_split\n",
        "\n",
        "train_x  = train_data[:5]\n",
        "train_y = train_y [:5]\n"
      ]
    },
    {
      "cell_type": "markdown",
      "metadata": {
        "id": "oLT6mOgDq1g3"
      },
      "source": [
        "**SUPERVISED ML ALGORITHM**"
      ]
    },
    {
      "cell_type": "code",
      "execution_count": null,
      "metadata": {
        "id": "lPV6jEEsoqui"
      },
      "outputs": [],
      "source": [
        "# using vgg19 CNN architecture\n",
        "\n",
        "base_model = keras.applications.vgg19.VGG19(weights = None ,  input_shape = (96,96,3) , include_top = False  )\n",
        "# we have to remove the top layer of FCN since vgg19 is arch. is made to work foriagenet dataset , which has 1000 classes so 1000 neurons in last layer\n",
        "# instead we want 10 neurons .\n",
        "\n",
        "# Use functional API\n",
        "\n",
        "layer1 = keras.layers.Flatten()(base_model.output)\n",
        "layer2 = keras.layers.Dense(20 , activation = \"relu\")(layer1)\n",
        "layer3 = keras.layers.Dense(10 , activation = \"softmax\")(layer2)\n",
        "\n",
        "# complete model ( by stacking these models)\n",
        "model = keras.Model (inputs = base_model.input , outputs = layer3)"
      ]
    },
    {
      "cell_type": "code",
      "execution_count": null,
      "metadata": {
        "id": "iIdEfLPBouqy"
      },
      "outputs": [],
      "source": [
        "model.compile(loss = 'sparse_categorical_crossentropy' , optimizer = \"sgd\" , metrics =[\"accuracy\"] )"
      ]
    },
    {
      "cell_type": "code",
      "execution_count": null,
      "metadata": {
        "colab": {
          "base_uri": "https://localhost:8080/"
        },
        "id": "19ctRRMhowiE",
        "outputId": "e0e77b17-ba0d-402f-cc13-3e17d26842e9"
      },
      "outputs": [
        {
          "name": "stdout",
          "output_type": "stream",
          "text": [
            "Epoch 1/10\n",
            "1/1 [==============================] - 5s 5s/step - loss: 2.3879 - accuracy: 0.0000e+00\n",
            "Epoch 2/10\n",
            "1/1 [==============================] - 3s 3s/step - loss: 2.1536 - accuracy: 0.4000\n",
            "Epoch 3/10\n",
            "1/1 [==============================] - 5s 5s/step - loss: 1.9651 - accuracy: 0.4000\n",
            "Epoch 4/10\n",
            "1/1 [==============================] - 4s 4s/step - loss: 1.8013 - accuracy: 0.4000\n",
            "Epoch 5/10\n",
            "1/1 [==============================] - 6s 6s/step - loss: 1.9082 - accuracy: 0.4000\n",
            "Epoch 6/10\n",
            "1/1 [==============================] - 4s 4s/step - loss: 2.7879 - accuracy: 0.4000\n",
            "Epoch 7/10\n",
            "1/1 [==============================] - 4s 4s/step - loss: 2.2971 - accuracy: 0.2000\n",
            "Epoch 8/10\n",
            "1/1 [==============================] - 5s 5s/step - loss: 2.2773 - accuracy: 0.2000\n",
            "Epoch 9/10\n",
            "1/1 [==============================] - 4s 4s/step - loss: 2.2627 - accuracy: 0.2000\n",
            "Epoch 10/10\n",
            "1/1 [==============================] - 5s 5s/step - loss: 2.2477 - accuracy: 0.4000\n"
          ]
        },
        {
          "data": {
            "text/plain": [
              "<keras.src.callbacks.History at 0x7a60b60c4940>"
            ]
          },
          "execution_count": 176,
          "metadata": {},
          "output_type": "execute_result"
        }
      ],
      "source": [
        "model.fit(train_x[:5] , train_y-1 , epochs =10)"
      ]
    },
    {
      "cell_type": "code",
      "execution_count": null,
      "metadata": {
        "colab": {
          "base_uri": "https://localhost:8080/",
          "height": 54
        },
        "id": "BzV5clNnoylM",
        "outputId": "b030d4da-43e6-495a-b35d-8c817a135873"
      },
      "outputs": [
        {
          "name": "stdout",
          "output_type": "stream",
          "text": [
            "1/1 [==============================] - 1s 1s/step\n"
          ]
        },
        {
          "data": {
            "application/vnd.google.colaboratory.intrinsic+json": {
              "type": "string"
            },
            "text/plain": [
              "'Cat'"
            ]
          },
          "execution_count": 177,
          "metadata": {},
          "output_type": "execute_result"
        }
      ],
      "source": [
        "prediction = model.predict(train_data[10:11])\n",
        "ind = np.argmax (prediction)\n",
        "\n",
        "labels[ind]"
      ]
    },
    {
      "cell_type": "code",
      "execution_count": null,
      "metadata": {
        "colab": {
          "base_uri": "https://localhost:8080/"
        },
        "id": "1EIjblCoWJWW",
        "outputId": "2d0f2e19-9e76-4041-d5e3-afe4ea06d427"
      },
      "outputs": [
        {
          "name": "stdout",
          "output_type": "stream",
          "text": [
            "1/1 [==============================] - 0s 260ms/step\n",
            "1/1 [==============================] - 0s 156ms/step\n",
            "1/1 [==============================] - 0s 210ms/step\n",
            "1/1 [==============================] - 0s 222ms/step\n",
            "1/1 [==============================] - 0s 265ms/step\n",
            "1/1 [==============================] - 0s 280ms/step\n",
            "1/1 [==============================] - 0s 325ms/step\n",
            "1/1 [==============================] - 0s 323ms/step\n",
            "1/1 [==============================] - 0s 342ms/step\n",
            "1/1 [==============================] - 0s 307ms/step\n",
            "1/1 [==============================] - 0s 429ms/step\n",
            "1/1 [==============================] - 0s 335ms/step\n",
            "1/1 [==============================] - 0s 387ms/step\n",
            "1/1 [==============================] - 0s 470ms/step\n",
            "1/1 [==============================] - 0s 332ms/step\n",
            "1/1 [==============================] - 0s 320ms/step\n",
            "1/1 [==============================] - 0s 434ms/step\n",
            "1/1 [==============================] - 0s 162ms/step\n",
            "1/1 [==============================] - 0s 271ms/step\n",
            "1/1 [==============================] - 0s 281ms/step\n"
          ]
        }
      ],
      "source": [
        "arr = []\n",
        "\n",
        "for i in range(20) :\n",
        "  arr.append (np.argmax(model.predict(test_data[i:i+1])))"
      ]
    },
    {
      "cell_type": "code",
      "execution_count": null,
      "metadata": {
        "id": "kw2e72j9W91Q"
      },
      "outputs": [],
      "source": [
        "test_predict = np.array(arr)\n",
        "# predictions "
      ]
    },
    {
      "cell_type": "code",
      "execution_count": null,
      "metadata": {
        "colab": {
          "base_uri": "https://localhost:8080/"
        },
        "id": "0wq9GRlbu5UD",
        "outputId": "c2b6238c-4e1f-4801-d9dc-94ccaa587085"
      },
      "outputs": [
        {
          "name": "stdout",
          "output_type": "stream",
          "text": [
            "accuracy of spervised approach = 0.0%\n"
          ]
        }
      ],
      "source": [
        "from sklearn.metrics import accuracy_score\n",
        "\n",
        "accuracy = accuracy_score (test_y[:20] , test_predict)\n",
        "\n",
        "print(f'accuracy of spervised approach = {accuracy * 100}%')"
      ]
    },
    {
      "cell_type": "markdown",
      "metadata": {
        "id": "j9TDUs7y_sV_"
      },
      "source": [
        "**SELF-SUPERVISED ML ALGORITHM**"
      ]
    },
    {
      "cell_type": "code",
      "execution_count": null,
      "metadata": {
        "id": "kzT1cM2g_rck"
      },
      "outputs": [],
      "source": [
        "# using vgg19 CNN architecture\n",
        "\n",
        "base_model1 = keras.applications.vgg19.VGG19(weights = None ,  input_shape = (96,96,3) , include_top = False  )\n"
      ]
    },
    {
      "cell_type": "code",
      "execution_count": null,
      "metadata": {
        "id": "rQ_nIrDzNhV9"
      },
      "outputs": [],
      "source": [
        "# unlabeled dataset of images\n",
        "\n",
        "train_x = train_data[ : 1000]\n",
        "train_x1 = []\n",
        "\n",
        "# roate the images (augment it) so cnn can learn important feature representations\n",
        "for i in range(len(train_x)) :\n",
        "  train_x1.append(rotate(train_x[i]))\n",
        "\n",
        "arr = np.array(train_x1)"
      ]
    },
    {
      "cell_type": "code",
      "execution_count": null,
      "metadata": {
        "id": "gC-4DlJsK_XT"
      },
      "outputs": [],
      "source": [
        "\n",
        "\n",
        "augmented_img  = keras.Sequential([\n",
        "   #keras.layers.experimental.preprocessing.Resizing(96,96) ,\n",
        "    keras.layers.experimental.preprocessing.RandomRotation(factor = 0.10),\n",
        "     keras.layers.experimental.preprocessing.Resizing(96,96) ,\n",
        "])"
      ]
    },
    {
      "cell_type": "code",
      "execution_count": null,
      "metadata": {
        "colab": {
          "base_uri": "https://localhost:8080/",
          "height": 451
        },
        "id": "o73m_kRNQiS_",
        "outputId": "ff82ab13-5621-47ba-8193-98709170bcf9"
      },
      "outputs": [
        {
          "name": "stderr",
          "output_type": "stream",
          "text": [
            "WARNING:matplotlib.image:Clipping input data to the valid range for imshow with RGB data ([0..1] for floats or [0..255] for integers).\n"
          ]
        },
        {
          "data": {
            "image/png": "[encoded data removed]",
            "text/plain": [
              "<Figure size 640x480 with 1 Axes>"
            ]
          },
          "metadata": {},
          "output_type": "display_data"
        }
      ],
      "source": [
        "\n",
        "plt.imshow(augmented_img(train_data[1]))\n",
        "plt.show()"
      ]
    },
    {
      "cell_type": "code",
      "execution_count": null,
      "metadata": {
        "id": "BpAzn8GZPaJw"
      },
      "outputs": [],
      "source": [
        "inp= keras.layers.Input(shape = (96,96,3))\n",
        "augment = augmented_img(inp)\n",
        "reconstruct = base_model1(augment)\n",
        "reconstruct1 = tf.image.resize(reconstruct , [96 , 96])\n",
        "#reconstruct1 = reconstruct1.reshape(-1,96,96,3)\n",
        "ssl_model = keras.Model (inputs = inp , outputs = reconstruct1)"
      ]
    },
    {
      "cell_type": "code",
      "execution_count": null,
      "metadata": {
        "id": "zMz5ieMBUnX5"
      },
      "outputs": [],
      "source": [
        "def change(img) :\n",
        "  img1 = tf.image.resize(img , [96,96])\n",
        "  return img1"
      ]
    },
    {
      "cell_type": "code",
      "execution_count": null,
      "metadata": {
        "id": "uYN6yTmJJDHA"
      },
      "outputs": [],
      "source": [
        "# base_model1(augmented_img(train_x[1:2]))"
      ]
    },
    {
      "cell_type": "code",
      "execution_count": null,
      "metadata": {
        "colab": {
          "base_uri": "https://localhost:8080/"
        },
        "id": "3YZ-srAjKC20",
        "outputId": "0ef41008-f7c2-439a-f657-7f6bd814b0eb"
      },
      "outputs": [
        {
          "name": "stdout",
          "output_type": "stream",
          "text": [
            "1/1 [==============================] - 15s 15s/step - loss: 1.1082e-04 - accuracy: 0.8603\n"
          ]
        },
        {
          "data": {
            "text/plain": [
              "<keras.src.callbacks.History at 0x7a60bcac1ae0>"
            ]
          },
          "execution_count": 188,
          "metadata": {},
          "output_type": "execute_result"
        }
      ],
      "source": [
        "\n",
        "ssl_model.compile(loss = \"mse\" , optimizer= 'sgd' , metrics = ['accuracy'])\n",
        "ssl_model.fit(train_x[:10],  change(base_model1(augmented_img(train_x[:10])) ), epochs = 1)\n",
        "\n"
      ]
    },
    {
      "cell_type": "code",
      "execution_count": null,
      "metadata": {
        "colab": {
          "base_uri": "https://localhost:8080/",
          "height": 903
        },
        "id": "M9pAVR1-Jywu",
        "outputId": "92eb8492-7876-4650-aee1-3c43b9c5faa8"
      },
      "outputs": [
        {
          "name": "stdout",
          "output_type": "stream",
          "text": [
            "1/1 [==============================] - 1s 631ms/step\n"
          ]
        },
        {
          "data": {
            "image/png": "[encoded data removed]",
            "text/plain": [
              "<Figure size 640x480 with 1 Axes>"
            ]
          },
          "metadata": {},
          "output_type": "display_data"
        },
        {
          "name": "stdout",
          "output_type": "stream",
          "text": [
            "1/1 [==============================] - 0s 308ms/step\n"
          ]
        },
        {
          "data": {
            "image/png": "[encoded data removed]",
            "text/plain": [
              "<Figure size 640x480 with 1 Axes>"
            ]
          },
          "metadata": {},
          "output_type": "display_data"
        },
        {
          "data": {
            "text/plain": [
              "(96, 96)"
            ]
          },
          "execution_count": 189,
          "metadata": {},
          "output_type": "execute_result"
        }
      ],
      "source": [
        "img1 = ssl_model.predict(train_data[101:102])\n",
        "\n",
        "img1 = np.squeeze(img1[:1 , : , : , :1])\n",
        "plt.imshow(img1)\n",
        "plt.show()\n",
        "img1.shape\n",
        "img1 = ssl_model.predict(train_data[11:12])\n",
        "\n",
        "img1 = np.squeeze(img1[:1 , : , : , :1])\n",
        "plt.imshow(img1)\n",
        "plt.show()\n",
        "img1.shape"
      ]
    },
    {
      "cell_type": "markdown",
      "metadata": {
        "id": "_dgVd0TKmgSH"
      },
      "source": [
        "**Semi-Supervised ML Algorithm - (Approach1)**"
      ]
    },
    {
      "cell_type": "code",
      "execution_count": null,
      "metadata": {
        "id": "8mAS5aLcNeUX"
      },
      "outputs": [],
      "source": [
        "model2 = keras.applications.vgg19.VGG19 (weights = None , input_shape = (96,96 , 3) , include_top = False)\n",
        "\n",
        "layer1 = keras.layers.Flatten()(model2.output)\n",
        "layer2 = keras.layers.Dense(20 , activation= \"relu\")(layer1)\n",
        "layer3 = keras.layers.Dense(10, activation = \"softmax\")(layer2)\n",
        "\n",
        "\n",
        "model4= keras.Model(inputs = model2.input , outputs =layer3 )"
      ]
    },
    {
      "cell_type": "code",
      "execution_count": null,
      "metadata": {
        "id": "ZzC1hM0zmpFo"
      },
      "outputs": [],
      "source": [
        "# small labeled dataset\n",
        "x = train_data[:5]\n",
        "y = train_y[ : 5]"
      ]
    },
    {
      "cell_type": "code",
      "execution_count": null,
      "metadata": {
        "colab": {
          "base_uri": "https://localhost:8080/"
        },
        "id": "6BOM1LO3rA0t",
        "outputId": "3be376ad-33f8-4c5c-f73d-d1a46e9652c8"
      },
      "outputs": [
        {
          "name": "stdout",
          "output_type": "stream",
          "text": [
            "Epoch 1/2\n",
            "1/1 [==============================] - 8s 8s/step - loss: 2.3017 - accuracy: 0.0000e+00\n",
            "Epoch 2/2\n",
            "1/1 [==============================] - 3s 3s/step - loss: 2.2178 - accuracy: 0.6000\n"
          ]
        },
        {
          "data": {
            "text/plain": [
              "<keras.src.callbacks.History at 0x7a614b7873d0>"
            ]
          },
          "execution_count": 192,
          "metadata": {},
          "output_type": "execute_result"
        }
      ],
      "source": [
        "model4.compile(loss = \"sparse_categorical_crossentropy\" , optimizer = \"sgd\", metrics = ['accuracy'])\n",
        "model4.fit(x , y , epochs =2 )\n"
      ]
    },
    {
      "cell_type": "code",
      "execution_count": null,
      "metadata": {
        "id": "rfMQh_Q7X0p3"
      },
      "outputs": [],
      "source": [
        "test_predict_ul = np.array(arr)"
      ]
    },
    {
      "cell_type": "code",
      "execution_count": null,
      "metadata": {
        "colab": {
          "base_uri": "https://localhost:8080/",
          "height": 54
        },
        "id": "vLdlBX-jrgjR",
        "outputId": "ac4dfcd1-0192-4b59-f779-9b9baf150371"
      },
      "outputs": [
        {
          "name": "stdout",
          "output_type": "stream",
          "text": [
            "1/1 [==============================] - 0s 474ms/step\n"
          ]
        },
        {
          "data": {
            "application/vnd.google.colaboratory.intrinsic+json": {
              "type": "string"
            },
            "text/plain": [
              "'Deer'"
            ]
          },
          "execution_count": 194,
          "metadata": {},
          "output_type": "execute_result"
        }
      ],
      "source": [
        "predict = model4.predict(train_data[1:2])\n",
        "ind = np.argmax(predict)\n",
        "\n",
        "labels[ind]\n"
      ]
    },
    {
      "cell_type": "code",
      "execution_count": null,
      "metadata": {
        "id": "2QadOoPmxKar"
      },
      "outputs": [],
      "source": [
        "x1 = train_data[10:25]\n"
      ]
    },
    {
      "cell_type": "code",
      "execution_count": null,
      "metadata": {
        "colab": {
          "base_uri": "https://localhost:8080/"
        },
        "id": "boJVpuzuwv3U",
        "outputId": "105db0f1-0baf-4646-8407-c61ca18cf664"
      },
      "outputs": [
        {
          "name": "stdout",
          "output_type": "stream",
          "text": [
            "1/1 [==============================] - 3s 3s/step\n"
          ]
        }
      ],
      "source": [
        "# Producing pseudo labels for unlabeled dataset by direct prediction (from small-sclae trained model )\n",
        "\n",
        "psuedo_labels  = model4.predict(x1)\n",
        "lis = []\n",
        "\n",
        "psuedo_labels.shape\n",
        "\n",
        "for i in range(15) :\n",
        "  ind1 = np.argmax(psuedo_labels[i])\n",
        "  lis.append(ind1)\n",
        "\n",
        "lis = np.array(lis)\n"
      ]
    },
    {
      "cell_type": "code",
      "execution_count": null,
      "metadata": {
        "colab": {
          "base_uri": "https://localhost:8080/"
        },
        "id": "A5dqRaiu2S6c",
        "outputId": "4cec6639-a0b0-4d69-859f-766a70703102"
      },
      "outputs": [
        {
          "data": {
            "text/plain": [
              "(15,)"
            ]
          },
          "execution_count": 197,
          "metadata": {},
          "output_type": "execute_result"
        }
      ],
      "source": [
        "lis.shape"
      ]
    },
    {
      "cell_type": "code",
      "execution_count": null,
      "metadata": {
        "colab": {
          "base_uri": "https://localhost:8080/"
        },
        "id": "9v03xpTN11p6",
        "outputId": "f650e1e2-00b3-4100-fa0a-d19d5ee60f66"
      },
      "outputs": [
        {
          "data": {
            "text/plain": [
              "(20,)"
            ]
          },
          "execution_count": 198,
          "metadata": {},
          "output_type": "execute_result"
        }
      ],
      "source": [
        "# concataniting images dataset\n",
        "\n",
        "X = np.vstack((x , x1))\n",
        "Y = np.concatenate((y , lis))\n",
        "Y.shape"
      ]
    },
    {
      "cell_type": "code",
      "execution_count": null,
      "metadata": {
        "colab": {
          "base_uri": "https://localhost:8080/"
        },
        "id": "zO6fSsG61lAA",
        "outputId": "7b777b51-f8d9-44a9-8a08-8e16341e98bb"
      },
      "outputs": [
        {
          "name": "stdout",
          "output_type": "stream",
          "text": [
            "Epoch 1/2\n",
            "1/1 [==============================] - 17s 17s/step - loss: 1.9833 - accuracy: 0.8000\n",
            "Epoch 2/2\n",
            "1/1 [==============================] - 10s 10s/step - loss: 0.9879 - accuracy: 0.8000\n"
          ]
        },
        {
          "data": {
            "text/plain": [
              "<keras.src.callbacks.History at 0x7a614b4a28c0>"
            ]
          },
          "execution_count": 199,
          "metadata": {},
          "output_type": "execute_result"
        }
      ],
      "source": [
        "# Now , training  the samew model  this new concatenated dataseet ( of predicted psuedo and actual labels )\n",
        "\n",
        "model4.fit(X , Y , epochs = 2)"
      ]
    },
    {
      "cell_type": "code",
      "execution_count": null,
      "metadata": {
        "colab": {
          "base_uri": "https://localhost:8080/",
          "height": 54
        },
        "id": "yw30ilNK2js5",
        "outputId": "5ecf48af-3a04-4d26-d7a0-cd986aabd942"
      },
      "outputs": [
        {
          "name": "stdout",
          "output_type": "stream",
          "text": [
            "1/1 [==============================] - 1s 544ms/step\n"
          ]
        },
        {
          "data": {
            "application/vnd.google.colaboratory.intrinsic+json": {
              "type": "string"
            },
            "text/plain": [
              "'Deer'"
            ]
          },
          "execution_count": 200,
          "metadata": {},
          "output_type": "execute_result"
        }
      ],
      "source": [
        "tr = model4.predict(train_data[2:3])\n",
        "labels[np.argmax(tr)]"
      ]
    },
    {
      "cell_type": "code",
      "execution_count": null,
      "metadata": {
        "colab": {
          "base_uri": "https://localhost:8080/"
        },
        "id": "WHdveiN7YCtd",
        "outputId": "6dcd354f-c70d-4ffd-c5f3-04a4b9a900f0"
      },
      "outputs": [
        {
          "name": "stdout",
          "output_type": "stream",
          "text": [
            "1/1 [==============================] - 1s 504ms/step\n",
            "1/1 [==============================] - 0s 213ms/step\n",
            "1/1 [==============================] - 0s 495ms/step\n",
            "1/1 [==============================] - 0s 283ms/step\n",
            "1/1 [==============================] - 0s 452ms/step\n",
            "1/1 [==============================] - 0s 405ms/step\n",
            "1/1 [==============================] - 0s 397ms/step\n",
            "1/1 [==============================] - 0s 464ms/step\n",
            "1/1 [==============================] - 0s 373ms/step\n",
            "1/1 [==============================] - 0s 426ms/step\n",
            "1/1 [==============================] - 0s 417ms/step\n",
            "1/1 [==============================] - 0s 385ms/step\n",
            "1/1 [==============================] - 0s 278ms/step\n",
            "1/1 [==============================] - 0s 202ms/step\n",
            "1/1 [==============================] - 0s 337ms/step\n",
            "1/1 [==============================] - 0s 248ms/step\n",
            "1/1 [==============================] - 0s 209ms/step\n",
            "1/1 [==============================] - 0s 343ms/step\n",
            "1/1 [==============================] - 0s 319ms/step\n",
            "1/1 [==============================] - 0s 283ms/step\n"
          ]
        }
      ],
      "source": [
        "arr = []\n",
        "\n",
        "for i in range(20) :\n",
        "  arr.append (np.argmax(model4.predict(test_data[i:i+1])))"
      ]
    },
    {
      "cell_type": "code",
      "execution_count": null,
      "metadata": {
        "id": "7RcovSoiYHzS"
      },
      "outputs": [],
      "source": [
        "test_predict_ul = np.array(arr)"
      ]
    },
    {
      "cell_type": "code",
      "execution_count": null,
      "metadata": {
        "colab": {
          "base_uri": "https://localhost:8080/"
        },
        "id": "0UZhw5ZGX-ag",
        "outputId": "360eafb2-ac21-4a01-fc39-3ce1f29bdf32"
      },
      "outputs": [
        {
          "name": "stdout",
          "output_type": "stream",
          "text": [
            "accuracy of semi - supervised approach = 5.0%\n"
          ]
        }
      ],
      "source": [
        "from sklearn.metrics import accuracy_score\n",
        "\n",
        "accuracy = accuracy_score (test_y[:20] , test_predict_ul)\n",
        "\n",
        "print(f'accuracy of semi - supervised approach = {accuracy * 100}%')"
      ]
    },
    {
      "cell_type": "code",
      "execution_count": null,
      "metadata": {
        "colab": {
          "base_uri": "https://localhost:8080/",
          "height": 435
        },
        "id": "Oc_ONU_Z39pL",
        "outputId": "34b56655-b636-4bba-bff9-ee434d805d64"
      },
      "outputs": [
        {
          "data": {
            "image/png": "[encoded data removed]",
            "text/plain": [
              "<Figure size 640x480 with 1 Axes>"
            ]
          },
          "metadata": {},
          "output_type": "display_data"
        }
      ],
      "source": [
        "\n",
        "# feature maps from one of the images from cnn model trianed on small labeled dataset\n",
        "img1 = model2(train_data[30:31])\n",
        "img1 = np.squeeze(img1[:1 , : , : , :1]) # using squeeze with sliced part of image since no of channels are too large for plt.imshow to show\n",
        "plt.imshow(img1)\n",
        "plt.show()\n"
      ]
    },
    {
      "cell_type": "markdown",
      "metadata": {
        "id": "Kl6cPTieQ5u4"
      },
      "source": [
        "**Semi-Supervised ML Algorithm - (Approach2) -Ensemble Method**"
      ]
    },
    {
      "cell_type": "code",
      "execution_count": null,
      "metadata": {
        "id": "kNW0F2ayQ5C1"
      },
      "outputs": [],
      "source": [
        "# Using ensemble methods to produce pseudo labels and do better predictions\n",
        "\n",
        "model_l1 = keras.applications.vgg19.VGG19 (weights = None , input_shape = (96,96 , 3) , include_top = False)\n",
        "\n",
        "layer1 = keras.layers.Flatten()(model_l1.output)\n",
        "layer2 = keras.layers.Dense(20 , activation= \"relu\")(layer1)\n",
        "layer3 = keras.layers.Dense(10, activation = \"softmax\")(layer2)\n",
        "\n",
        "\n",
        "model12= keras.Model(inputs = model_l1.input , outputs =layer3 )"
      ]
    },
    {
      "cell_type": "code",
      "execution_count": null,
      "metadata": {
        "id": "ns1B90cymdU2"
      },
      "outputs": [],
      "source": [
        "\n",
        "# wrapping my soft voting cnn models in a hard voting classifier to make it compatinle with hard voting ensembles .\n",
        "from sklearn.base import BaseEstimator, ClassifierMixin\n",
        "\n",
        "class CNNClassifier(BaseEstimator, ClassifierMixin):\n",
        "    def __init__(self, model):\n",
        "        self.model = model\n",
        "\n",
        "    def fit(self, X, y):\n",
        "        self.model.compile(optimizer='adam', loss='sparse_categorical_crossentropy', metrics=['accuracy'])\n",
        "        self.model.fit(X, y, epochs=2, batch_size=32)  # You can adjust the number of epochs and batch size\n",
        "        return self\n",
        "\n",
        "\n",
        "    def predict(self, X):\n",
        "\n",
        "      x2 =self.model.predict(X)\n",
        "      x3 = X.reshape((x2.shape[0], 96, 3))\n",
        "      return x3\n",
        "\n",
        "\n",
        "model4_classifier = CNNClassifier(model4)\n",
        "ssl_model_classifier = CNNClassifier(ssl_model)"
      ]
    },
    {
      "cell_type": "code",
      "execution_count": null,
      "metadata": {
        "id": "g7Hr1g5rnqS7"
      },
      "outputs": [],
      "source": [
        "x1 = train_data[:5]\n",
        "y1 = train_y[ : 5]"
      ]
    },
    {
      "cell_type": "code",
      "execution_count": null,
      "metadata": {
        "colab": {
          "base_uri": "https://localhost:8080/"
        },
        "id": "NMurRgOypwqy",
        "outputId": "cc89934d-929f-4529-c06d-fac305c153f6"
      },
      "outputs": [
        {
          "data": {
            "text/plain": [
              "(15, 10)"
            ]
          },
          "execution_count": 208,
          "metadata": {},
          "output_type": "execute_result"
        }
      ],
      "source": [
        "\n",
        "psuedo_labels.shape"
      ]
    },
    {
      "cell_type": "code",
      "execution_count": null,
      "metadata": {
        "colab": {
          "base_uri": "https://localhost:8080/"
        },
        "id": "MxmqIaiIvJko",
        "outputId": "9a150fc2-e7d7-455e-b485-da9f06eace17"
      },
      "outputs": [
        {
          "name": "stdout",
          "output_type": "stream",
          "text": [
            "1/1 [==============================] - 4s 4s/step - loss: 9.1378 - accuracy: 0.2000\n",
            "1/1 [==============================] - 4s 4s/step - loss: 2.3502 - accuracy: 0.0000e+00\n"
          ]
        },
        {
          "data": {
            "text/plain": [
              "<keras.src.callbacks.History at 0x7a60bc7f5bd0>"
            ]
          },
          "execution_count": 209,
          "metadata": {},
          "output_type": "execute_result"
        }
      ],
      "source": [
        "# doing soft voting classification\n",
        "from sklearn.ensemble import VotingClassifier\n",
        "\n",
        "# for hard voting class.\n",
        "clf = VotingClassifier(estimators = [ (\"m4\" , model4) , (\"model\" ,model)] , voting = \"hard\")\n",
        "\n",
        "# for soft voting class.\n",
        "model4.fit(x , y)\n",
        "model.fit(x,y)"
      ]
    },
    {
      "cell_type": "code",
      "execution_count": null,
      "metadata": {
        "colab": {
          "base_uri": "https://localhost:8080/"
        },
        "id": "qYhLU3GLkGI5",
        "outputId": "a849d3bd-a844-4fcb-d0ce-5a6a55cff307"
      },
      "outputs": [
        {
          "name": "stdout",
          "output_type": "stream",
          "text": [
            "1/1 [==============================] - 0s 257ms/step\n"
          ]
        }
      ],
      "source": [
        "p1 = model.predict(test_data[4:5])"
      ]
    },
    {
      "cell_type": "code",
      "execution_count": null,
      "metadata": {
        "colab": {
          "base_uri": "https://localhost:8080/"
        },
        "id": "ExfVF1U3tNm-",
        "outputId": "076b92f0-0a2f-4892-c0be-6d7239a6da40"
      },
      "outputs": [
        {
          "name": "stdout",
          "output_type": "stream",
          "text": [
            "1/1 [==============================] - 0s 313ms/step\n"
          ]
        }
      ],
      "source": [
        "p2 = model4.predict(test_data[4:5])\n"
      ]
    },
    {
      "cell_type": "code",
      "execution_count": null,
      "metadata": {
        "id": "5Hx7bf9jtSvo"
      },
      "outputs": [],
      "source": [
        "def produce_label(p1 , p2):\n",
        "  lis1 = []\n",
        "# average predictions for soft voting classifications\n",
        "  for i in range(10) :\n",
        "\n",
        "    lis1.append( (p1[0][i]+p2[0][i]) /2)\n",
        "\n",
        "  ind_req = np.argmax(lis)\n",
        "  return ind_req\n"
      ]
    },
    {
      "cell_type": "code",
      "execution_count": null,
      "metadata": {
        "colab": {
          "base_uri": "https://localhost:8080/"
        },
        "id": "cK8DhT8i50ql",
        "outputId": "a1d1321a-eae5-4682-b68a-4680b3bb076c"
      },
      "outputs": [
        {
          "name": "stdout",
          "output_type": "stream",
          "text": [
            "1/1 [==============================] - 0s 248ms/step\n"
          ]
        },
        {
          "data": {
            "text/plain": [
              "array([[0.09703954, 0.10519382, 0.09856465, 0.10661522, 0.09980753,\n",
              "        0.10237247, 0.09233749, 0.10066012, 0.09822015, 0.09918897]],\n",
              "      dtype=float32)"
            ]
          },
          "execution_count": 265,
          "metadata": {},
          "output_type": "execute_result"
        }
      ],
      "source": [
        "p1 = model.predict(train_data[10:10+1])\n",
        "p1"
      ]
    },
    {
      "cell_type": "code",
      "execution_count": null,
      "metadata": {
        "id": "wixJrBcEuzZF"
      },
      "outputs": [],
      "source": [
        "# making pseud labels for this\n",
        "\n",
        "def produce_labels(n) :\n",
        "  lis3 = []\n",
        "  for i in range(n) :\n",
        "    pse = []\n",
        "    p1 = model.predict(train_data[i:i+1])\n",
        "    p2 = model.predict(train_data[i:i+1])\n",
        "    for j in range(10) :\n",
        "      pse.append((p1[0][j]+p2[0][j])/2)\n",
        "    t = np.argmax(pse)\n",
        "    lis3.append(t)\n",
        "\n",
        "\n",
        "\n",
        "    return np.array(lis3)\n",
        "\n",
        "\n",
        "\n"
      ]
    },
    {
      "cell_type": "code",
      "execution_count": null,
      "metadata": {
        "colab": {
          "base_uri": "https://localhost:8080/"
        },
        "id": "zl86pSak2MCA",
        "outputId": "d7886079-367c-4c19-f53d-2f098f1bc782"
      },
      "outputs": [
        {
          "name": "stdout",
          "output_type": "stream",
          "text": [
            "1/1 [==============================] - 0s 255ms/step\n",
            "1/1 [==============================] - 0s 261ms/step\n"
          ]
        },
        {
          "data": {
            "text/plain": [
              "array([1])"
            ]
          },
          "execution_count": 263,
          "metadata": {},
          "output_type": "execute_result"
        }
      ],
      "source": [
        "p4 = produce_labels(10)\n",
        "p4\n"
      ]
    },
    {
      "cell_type": "code",
      "execution_count": null,
      "metadata": {
        "colab": {
          "base_uri": "https://localhost:8080/"
        },
        "id": "4cz0HG7iuwzE",
        "outputId": "535f71cc-abd0-44ce-be0b-e9f1b43ffaab"
      },
      "outputs": [
        {
          "name": "stdout",
          "output_type": "stream",
          "text": [
            "1/1 [==============================] - 3s 3s/step - loss: 2.2396 - accuracy: 1.0000\n"
          ]
        },
        {
          "data": {
            "text/plain": [
              "<keras.src.callbacks.History at 0x7a614b4de2c0>"
            ]
          },
          "execution_count": 266,
          "metadata": {},
          "output_type": "execute_result"
        }
      ],
      "source": [
        "# again training the models on these average labels and then using them collectively as ensemble to producer pseudo labels\n",
        "model.fit(train_data[:1] , p4)\n"
      ]
    },
    {
      "cell_type": "code",
      "execution_count": null,
      "metadata": {
        "colab": {
          "base_uri": "https://localhost:8080/",
          "height": 54
        },
        "id": "-H_heTIMuV9k",
        "outputId": "60b5cce7-0a26-4bfe-c5e1-d8ecf685f485"
      },
      "outputs": [
        {
          "name": "stdout",
          "output_type": "stream",
          "text": [
            "1/1 [==============================] - 0s 271ms/step\n"
          ]
        },
        {
          "data": {
            "application/vnd.google.colaboratory.intrinsic+json": {
              "type": "string"
            },
            "text/plain": [
              "'Bird'"
            ]
          },
          "execution_count": 271,
          "metadata": {},
          "output_type": "execute_result"
        }
      ],
      "source": [
        "\n",
        "# and now doinfg predictions using new model\n",
        "res = np.argmax(model.predict(test_data[11:12]))\n",
        "\n",
        "labels[res]"
      ]
    },
    {
      "cell_type": "code",
      "execution_count": null,
      "metadata": {
        "id": "e4-uBl2izsab"
      },
      "outputs": [],
      "source": []
    },
    {
      "cell_type": "code",
      "execution_count": null,
      "metadata": {
        "id": "-OGekavwzsgT"
      },
      "outputs": [],
      "source": []
    }
  ],
  "metadata": {
    "colab": {
      "provenance": []
    },
    "kernelspec": {
      "display_name": "Python 3",
      "name": "python3"
    },
    "language_info": {
      "name": "python"
    }
  },
  "nbformat": 4,
  "nbformat_minor": 0
}
